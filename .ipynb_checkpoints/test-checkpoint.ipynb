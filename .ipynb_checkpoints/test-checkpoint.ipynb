{
 "cells": [
  {
   "cell_type": "code",
   "execution_count": null,
   "metadata": {},
   "outputs": [],
   "source": [
    "import numpy as np\n",
    "import cv2\n",
    "from keras.models import load_model\n",
    "\n",
    "\n",
    "model = load_model('model.h5')\n",
    "\n",
    "\n",
    "labels = [\"glioma_tumor\", \"meningioma_tumor\", \"no_tumor\", \"pituitary_tumor\"]\n",
    "\n",
    "\n",
    "def preprocess_image(image_path):\n",
    "    image = cv2.imread(image_path)   \n",
    "    image = cv2.resize(image, (150, 150))  \n",
    "    image = image.astype('float32') / 255.0   \n",
    "    image = np.expand_dims(image, axis=0)   \n",
    "    return image\n",
    "\n",
    "\n",
    "\n",
    "def predict_image(image_path):\n",
    "    image = preprocess_image(image_path)\n",
    "    prediction = model.predict(image)  \n",
    "    predicted_class = np.argmax(prediction)   \n",
    "    confidence = np.max(prediction)  \n",
    "    \n",
    "\n",
    "    print(f\"Predicted Class: {labels[predicted_class]}\")\n",
    "    print(f\"Confidence Score: {confidence:.2f}\")\n",
    "\n",
    "\n",
    "image_path = \"E:\\Desktop\\mlapi\\mlapi\\test1.jpg\"  \n",
    "predict_image(image_path)\n"
   ]
  }
 ],
 "metadata": {
  "language_info": {
   "name": "python"
  }
 },
 "nbformat": 4,
 "nbformat_minor": 2
}
