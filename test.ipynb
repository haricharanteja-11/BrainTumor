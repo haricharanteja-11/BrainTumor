{
 "cells": [
  {
   "cell_type": "code",
   "execution_count": 3,
   "metadata": {},
   "outputs": [
    {
     "name": "stderr",
     "output_type": "stream",
     "text": [
      "WARNING:absl:Compiled the loaded model, but the compiled metrics have yet to be built. `model.compile_metrics` will be empty until you train or evaluate the model.\n"
     ]
    },
    {
     "name": "stdout",
     "output_type": "stream",
     "text": [
      "\u001b[1m1/1\u001b[0m \u001b[32m━━━━━━━━━━━━━━━━━━━━\u001b[0m\u001b[37m\u001b[0m \u001b[1m1s\u001b[0m 1s/step   \n",
      "Predicted Class: pituitary_tumor\n",
      "[[9.9849344e-18 1.2414844e-13 2.2327772e-14 1.0000000e+00]]\n"
     ]
    }
   ],
   "source": [
    "import cv2\n",
    "import numpy as np\n",
    "from keras.models import load_model\n",
    "\n",
    "\n",
    "saved_model = load_model('model.h5')\n",
    "\n",
    "\n",
    "labels = [\"glioma_tumor\", \"meningioma_tumor\", \"no_tumor\", \"pituitary_tumor\"]\n",
    "\n",
    "\n",
    "image_path = r\"C:\\Users\\venka\\OneDrive\\Desktop\\Brain-Tumor-detection-main\\Brain-Tumor-detection-main\\Testing\\pituitary_tumor\\image(60).jpg\"  # Ensure this path is correct\n",
    "\n",
    "\n",
    "img = cv2.imread(image_path)\n",
    "if img is None:\n",
    "    raise FileNotFoundError(f\"Image not found at {image_path}\")\n",
    "\n",
    "\n",
    "img = cv2.resize(img, (150, 150))\n",
    "img = np.expand_dims(img, axis=0)\n",
    "\n",
    "\n",
    "predictions = saved_model.predict(img)\n",
    "predicted_class = np.argmax(predictions, axis=1)[0]\n",
    "\n",
    "print(\"Predicted Class:\", labels[predicted_class])\n",
    "print(predictions)"
   ]
  },
  {
   "cell_type": "code",
   "execution_count": null,
   "metadata": {},
   "outputs": [],
   "source": []
  }
 ],
 "metadata": {
  "kernelspec": {
   "display_name": "Python 3 (ipykernel)",
   "language": "python",
   "name": "python3"
  },
  "language_info": {
   "codemirror_mode": {
    "name": "ipython",
    "version": 3
   },
   "file_extension": ".py",
   "mimetype": "text/x-python",
   "name": "python",
   "nbconvert_exporter": "python",
   "pygments_lexer": "ipython3",
   "version": "3.12.4"
  }
 },
 "nbformat": 4,
 "nbformat_minor": 4
}
